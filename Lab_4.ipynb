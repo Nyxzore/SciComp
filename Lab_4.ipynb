{
 "cells": [
  {
   "cell_type": "code",
   "execution_count": 2,
   "id": "c472f597",
   "metadata": {},
   "outputs": [
    {
     "name": "stdout",
     "output_type": "stream",
     "text": [
      "[[  3   2  -6]\n",
      " [  1  -5  11]\n",
      " [ -2  -8 -13]] \n",
      "\n",
      "[[-2  0  2]\n",
      " [-2  2 -6]\n",
      " [ 0  4  6]] \n",
      "\n",
      "[[ 1  0 28]\n",
      " [ 0  1 14]\n",
      " [ 0  0 15]] \n",
      "\n",
      "[[ 1  0  0]\n",
      " [ 0  1  0]\n",
      " [28  0 15]] \n",
      "\n",
      "[[ 1  0 28]\n",
      " [ 0  1  0]\n",
      " [ 0  0 15]] \n",
      "\n",
      "[[ 1  0 28]\n",
      " [ 0  1  0]\n",
      " [ 0  0 15]] \n",
      "\n",
      "-1 \n",
      "\n",
      "-15 \n",
      "\n",
      "[[ 0.  6.  4.]\n",
      " [ 9.  0. -9.]\n",
      " [-4.  0.  0.]] \n",
      "\n",
      "[[ -4   0   4]\n",
      " [ -4   4 -12]\n",
      " [  0   8  12]] \n",
      "\n",
      "7.1: |AB|= 15  =|A||B|= 15 \n",
      "\n",
      "7.2: |5B|= -1875  =5^3|B|= -1875.0 \n",
      "\n",
      "7.3: |A^T|= -1  =|A|= -1 \n",
      "\n",
      "8.1:  [10 -2 18]\n",
      "8.2:  [25 23 19]\n",
      "8.3:  [  36  -51 -207]\n",
      "8.4:  24\n"
     ]
    }
   ],
   "source": [
    "import numpy as np\n",
    "A = np.array([[1, -2, 2], [3,1,1], [2,0,1]])\n",
    "B = np.array([[-1,-2,4], [1,3,-5], [2,4,7]])\n",
    "\n",
    "#e(i)\n",
    "print(A-(2*B), '\\n') \n",
    "print(B-A, '\\n')\n",
    "#e(ii)\n",
    "print(A @ B, '\\n')\n",
    "\n",
    "#e(ii)\n",
    "print(B@A, '\\n')\n",
    "\n",
    "#e(iii)\n",
    "print((B@A).T, '\\n')\n",
    "print(A.T @ B.T, '\\n')\n",
    "\n",
    "#e(iv)\n",
    "print(round(np.linalg.det(A)), '\\n')\n",
    "print(round(np.linalg.det(B)), '\\n')\n",
    "\n",
    "#e(v)\n",
    "print((A+3*(np.identity(3)))*(B-B.T) , '\\n')\n",
    "\n",
    "#e(vi)\n",
    "print(2*B-2*A, '\\n')\n",
    "\n",
    "#(vii)\n",
    "print('7.1:', '|AB|=', round(np.linalg.det(A@B)), ' =|A||B|=', round(np.linalg.det(A)*round(np.linalg.det(B))),  '\\n')\n",
    "print('7.2:', '|5B|=', round(np.linalg.det(5*B)), ' =5^3|B|=', 5**3*(np.linalg.det(B)), '\\n')\n",
    "print('7.3:', '|A^T|=', round(np.linalg.det(A.T)), ' =|A|=', round(np.linalg.det(A)), '\\n' )\n",
    "\n",
    "#(viii)\n",
    "x = np.array([3,0,6])\n",
    "y = np.array([2, -1, 3])\n",
    "print('8.1: ', 2*x+2*y)\n",
    "print('8.2: ', A@x+A@y)\n",
    "print('8.3: ', B@(2*x-3*A@y))\n",
    "print('8.4: ', x@y)"
   ]
  },
  {
   "cell_type": "code",
   "execution_count": 13,
   "id": "3d04944a",
   "metadata": {},
   "outputs": [
    {
     "name": "stdout",
     "output_type": "stream",
     "text": [
      "3.1 inverse = \n",
      " [[-0.1509434   0.05660377]\n",
      " [ 0.13207547  0.0754717 ]] \n",
      "\n",
      "inverse product = \n",
      " [[1. 0.]\n",
      " [0. 1.]] \n",
      "\n"
     ]
    }
   ],
   "source": [
    "#3.1\n",
    "\n",
    "def det(t_by_t_matrix):\n",
    "    return t_by_t_matrix[0][0] * t_by_t_matrix[1][1] - t_by_t_matrix[0][1] * t_by_t_matrix[1][0]\n",
    "    \n",
    "\n",
    "def inverse(matrix):\n",
    "    if det(matrix) != 0:\n",
    "        inverse_m = np.linalg.inv(matrix)\n",
    "        print('3.1 inverse = \\n', inverse_m, '\\n')\n",
    "        print('inverse product = \\n', inverse_m @ matrix, '\\n')\n",
    "    \n",
    "\n",
    "A = np.array([[-4,3], [7,8]])\n",
    "B = np.array([[4,3], [8,6]])\n",
    "\n",
    "inverse(A)\n",
    "inverse(B)"
   ]
  },
  {
   "cell_type": "code",
   "execution_count": null,
   "id": "0b640620",
   "metadata": {},
   "outputs": [],
   "source": []
  }
 ],
 "metadata": {
  "kernelspec": {
   "display_name": "Python 3 (ipykernel)",
   "language": "python",
   "name": "python3"
  },
  "language_info": {
   "codemirror_mode": {
    "name": "ipython",
    "version": 3
   },
   "file_extension": ".py",
   "mimetype": "text/x-python",
   "name": "python",
   "nbconvert_exporter": "python",
   "pygments_lexer": "ipython3",
   "version": "3.12.3"
  }
 },
 "nbformat": 4,
 "nbformat_minor": 5
}
